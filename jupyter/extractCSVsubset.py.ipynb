{
 "cells": [
  {
   "cell_type": "code",
   "execution_count": 1,
   "metadata": {
    "collapsed": true
   },
   "outputs": [],
   "source": [
    "# From:\n",
    "#   https://hdfgroup.org/wp/2015/03/from-hdf5-datasets-to-apache-spark-rdds/\n",
    "# Specialized to MIDS W205-2 (Fall 2015)\n",
    "\n",
    "import os\n",
    "import os.path\n",
    "import h5py\n",
    "import sys\n",
    "\n",
    "mssRoot = os.path.expanduser('~/MIDS/mss/data/')\n",
    "blocksRoot = os.path.expanduser('~/MIDS/mss/blocks/')\n",
    "filesPerBlock = 100  # Gives about 30MB/file. Should use larger size in production.\n",
    "\n",
    "minPartitions = 2 #minimum number of partitions for use by Spark\n"
   ]
  },
  {
   "cell_type": "code",
   "execution_count": 2,
   "metadata": {
    "collapsed": false
   },
   "outputs": [],
   "source": [
    "# Configure spark to work\n",
    "import os\n",
    "import sys\n",
    "\n",
    "spark_home = os.environ.get('SPARK_HOME', None)\n",
    "if not spark_home:\n",
    "    raise ValueError('SPARK_HOME environment variable is not set')\n",
    "sys.path.insert(0, os.path.join(spark_home, 'python'))\n",
    "sys.path.insert(0, os.path.join(spark_home, 'python/lib/py4j-0.8.2.1-src.zip'))\n",
    "\n",
    "#execfile(os.path.join(spark_home, 'python/pyspark/shell.py'))"
   ]
  },
  {
   "cell_type": "code",
   "execution_count": 3,
   "metadata": {
    "collapsed": true
   },
   "outputs": [],
   "source": [
    "def getFileNames(dataRoot, verbose = True):\n",
    "\t\n",
    "\tfileStructure = os.walk(dataRoot)\n",
    "\t\n",
    "\th5Files = []\n",
    "\tfor entry in fileStructure:\n",
    "\t\tthisPath = entry[0]\n",
    "\t\tthisFileList = entry[2]\n",
    "\t\t#print thisPath, thisFileList\n",
    "\n",
    "\t\tfor ff in thisFileList:\n",
    "\t\t\tif ff.endswith('.h5'):\n",
    "\t\t\t\th5Files.append(os.path.join(thisPath,ff))\n",
    "\t\t\t\tif verbose:\n",
    "\t\t\t\t\tprint os.path.join(thisPath,ff)\n",
    "\treturn h5Files"
   ]
  },
  {
   "cell_type": "code",
   "execution_count": 7,
   "metadata": {
    "collapsed": true
   },
   "outputs": [],
   "source": [
    "def buildReferenceCSV(dataRoot = None, publish = True, verbose = True):\n",
    "\t'''\n",
    "\t\"Walks\" the file tree and finds all of the HD5 files in the tree under dataRoot\n",
    "\t(assumes these are from the million song database)\n",
    "\t'''\n",
    "\t\n",
    "\tif not dataRoot:\n",
    "\t\tdataRoot = blocksRoot\n",
    "    \n",
    "\th5Files = getFileNames(dataRoot, verbose = verbose)\n",
    "\n",
    "\tif publish:\n",
    "\t\tcsvFileName = os.path.join(dataRoot,'Hd5Extracts.csv')\n",
    "\t\toFile = open(csvFileName, 'w')\n",
    "        \n",
    "\t\n",
    "\tfor ff in h5Files:\n",
    "\n",
    "\t\tpubString = ff\n",
    "#\t\tpubString += ', '\n",
    "#\t\tpubString += 'analysis, '\n",
    "#\t\tpubString += 'key \\n'   # Key of the song, not key of the hash\n",
    "\n",
    "\t\tif publish:\n",
    "\t\t\toFile.write(pubString + '\\n')\n",
    "\n",
    "\t\tif verbose:\n",
    "\t\t\tprint pubString\n",
    "\n",
    "\treturn csvFileName"
   ]
  },
  {
   "cell_type": "code",
   "execution_count": 29,
   "metadata": {
    "collapsed": true
   },
   "outputs": [],
   "source": [
    "def nodeToList(inputLine, verbose = False):\n",
    "    '''\n",
    "    This function is intended for use in Spark.\n",
    "    Inputs a line (probably from the reference CSV)\n",
    "    and extracts some important info in an annoylingy\n",
    "    hard-coded way [we should think about how to fix this]\n",
    "    \n",
    "    Returns contents of original input line with key,\n",
    "    time_signature, and tempo appended.\n",
    "    \n",
    "    '''\n",
    "    import h5py\n",
    "    parsedLine = inputLine.split(',')\n",
    "    thisH5File = h5py.File(parsedLine[0])\n",
    "    thisBlockSongList = thisH5File['songs']\n",
    "    \n",
    "    songsWithData = []\n",
    "    \n",
    "    for thisSong in thisBlockSongList:\n",
    "        dataSet = thisH5File['songs'][thisSong]['analysis']['songs']\n",
    "        key = dataSet[0][-10]\n",
    "        time_signature = dataSet[0][-3]\n",
    "        tempo = dataSet[0][-4]\n",
    "    \n",
    "        outTuple = (parsedLine[0], key, time_signature, tempo) \n",
    "        \n",
    "        #if verbose:\n",
    "        print outTuple\n",
    "        songsWithData.append(outTuple)\n",
    "        \n",
    "    return songsWithData\n"
   ]
  },
  {
   "cell_type": "code",
   "execution_count": 30,
   "metadata": {
    "collapsed": false
   },
   "outputs": [
    {
     "name": "stdout",
     "output_type": "stream",
     "text": [
      "Establishing Spark Context\n",
      "Fetching all file names\n",
      "Mapping RDD\n"
     ]
    }
   ],
   "source": [
    "#  Process in Spark\n",
    "\n",
    "from pyspark import SparkContext\n",
    "from optparse import OptionParser\n",
    "from datetime import datetime as dt\n",
    "print 'Establishing Spark Context'\n",
    "\n",
    "# Kill the context if it already exists\n",
    "if 'sc' in dir():\n",
    "    sc.stop()\n",
    "\n",
    "sc = SparkContext(appName=\"SparkHDF5\")\n",
    "\n",
    "csvFileName = buildReferenceCSV(dataRoot = blocksRoot, verbose = False)\n",
    "\n",
    "print 'Fetching all file names'\n",
    "timeNow = dt.now().isoformat()\n",
    "file_paths = sc.textFile(os.path.join(blocksRoot,'Hd5Extracts.csv'),minPartitions=minPartitions)\n",
    "\n",
    "print 'Mapping RDD'\n",
    "rdd = file_paths.flatMap(nodeToList)\n",
    "\n",
    "sc.stop()\n",
    "\n",
    "#print 'First Result: ', rdd.take(1)\n"
   ]
  },
  {
   "cell_type": "code",
   "execution_count": 31,
   "metadata": {
    "collapsed": false
   },
   "outputs": [
    {
     "ename": "Py4JJavaError",
     "evalue": "An error occurred while calling o146.partitions.\n: java.io.IOException: java.lang.NullPointerException\n\tat org.apache.spark.util.Utils$.tryOrIOException(Utils.scala:1178)\n\tat org.apache.spark.broadcast.TorrentBroadcast.readBroadcastBlock(TorrentBroadcast.scala:165)\n\tat org.apache.spark.broadcast.TorrentBroadcast._value$lzycompute(TorrentBroadcast.scala:64)\n\tat org.apache.spark.broadcast.TorrentBroadcast._value(TorrentBroadcast.scala:64)\n\tat org.apache.spark.broadcast.TorrentBroadcast.getValue(TorrentBroadcast.scala:88)\n\tat org.apache.spark.broadcast.Broadcast.value(Broadcast.scala:70)\n\tat org.apache.spark.rdd.HadoopRDD.getJobConf(HadoopRDD.scala:144)\n\tat org.apache.spark.rdd.HadoopRDD.getPartitions(HadoopRDD.scala:200)\n\tat org.apache.spark.rdd.RDD$$anonfun$partitions$2.apply(RDD.scala:239)\n\tat org.apache.spark.rdd.RDD$$anonfun$partitions$2.apply(RDD.scala:237)\n\tat scala.Option.getOrElse(Option.scala:120)\n\tat org.apache.spark.rdd.RDD.partitions(RDD.scala:237)\n\tat org.apache.spark.rdd.MapPartitionsRDD.getPartitions(MapPartitionsRDD.scala:35)\n\tat org.apache.spark.rdd.RDD$$anonfun$partitions$2.apply(RDD.scala:239)\n\tat org.apache.spark.rdd.RDD$$anonfun$partitions$2.apply(RDD.scala:237)\n\tat scala.Option.getOrElse(Option.scala:120)\n\tat org.apache.spark.rdd.RDD.partitions(RDD.scala:237)\n\tat org.apache.spark.api.java.JavaRDDLike$class.partitions(JavaRDDLike.scala:65)\n\tat org.apache.spark.api.java.AbstractJavaRDDLike.partitions(JavaRDDLike.scala:47)\n\tat sun.reflect.NativeMethodAccessorImpl.invoke0(Native Method)\n\tat sun.reflect.NativeMethodAccessorImpl.invoke(NativeMethodAccessorImpl.java:57)\n\tat sun.reflect.DelegatingMethodAccessorImpl.invoke(DelegatingMethodAccessorImpl.java:43)\n\tat java.lang.reflect.Method.invoke(Method.java:606)\n\tat py4j.reflection.MethodInvoker.invoke(MethodInvoker.java:231)\n\tat py4j.reflection.ReflectionEngine.invoke(ReflectionEngine.java:379)\n\tat py4j.Gateway.invoke(Gateway.java:259)\n\tat py4j.commands.AbstractCommand.invokeMethod(AbstractCommand.java:133)\n\tat py4j.commands.CallCommand.execute(CallCommand.java:79)\n\tat py4j.GatewayConnection.run(GatewayConnection.java:207)\n\tat java.lang.Thread.run(Thread.java:745)\nCaused by: java.lang.NullPointerException\n\tat org.apache.spark.broadcast.TorrentBroadcast$$anonfun$readBroadcastBlock$1.apply(TorrentBroadcast.scala:167)\n\tat org.apache.spark.util.Utils$.tryOrIOException(Utils.scala:1175)\n\t... 29 more\n",
     "output_type": "error",
     "traceback": [
      "\u001b[1;31m---------------------------------------------------------------------------\u001b[0m",
      "\u001b[1;31mPy4JJavaError\u001b[0m                             Traceback (most recent call last)",
      "\u001b[1;32m<ipython-input-31-45932c864a2d>\u001b[0m in \u001b[0;36m<module>\u001b[1;34m()\u001b[0m\n\u001b[1;32m----> 1\u001b[1;33m \u001b[0mrdd\u001b[0m\u001b[1;33m.\u001b[0m\u001b[0mtake\u001b[0m\u001b[1;33m(\u001b[0m\u001b[1;36m1\u001b[0m\u001b[1;33m)\u001b[0m\u001b[1;33m\u001b[0m\u001b[0m\n\u001b[0m",
      "\u001b[1;32m/usr/local/sbin/spark/python/pyspark/rdd.py\u001b[0m in \u001b[0;36mtake\u001b[1;34m(self, num)\u001b[0m\n\u001b[0;32m   1267\u001b[0m         \"\"\"\n\u001b[0;32m   1268\u001b[0m         \u001b[0mitems\u001b[0m \u001b[1;33m=\u001b[0m \u001b[1;33m[\u001b[0m\u001b[1;33m]\u001b[0m\u001b[1;33m\u001b[0m\u001b[0m\n\u001b[1;32m-> 1269\u001b[1;33m         \u001b[0mtotalParts\u001b[0m \u001b[1;33m=\u001b[0m \u001b[0mself\u001b[0m\u001b[1;33m.\u001b[0m\u001b[0mgetNumPartitions\u001b[0m\u001b[1;33m(\u001b[0m\u001b[1;33m)\u001b[0m\u001b[1;33m\u001b[0m\u001b[0m\n\u001b[0m\u001b[0;32m   1270\u001b[0m         \u001b[0mpartsScanned\u001b[0m \u001b[1;33m=\u001b[0m \u001b[1;36m0\u001b[0m\u001b[1;33m\u001b[0m\u001b[0m\n\u001b[0;32m   1271\u001b[0m \u001b[1;33m\u001b[0m\u001b[0m\n",
      "\u001b[1;32m/usr/local/sbin/spark/python/pyspark/rdd.py\u001b[0m in \u001b[0;36mgetNumPartitions\u001b[1;34m(self)\u001b[0m\n\u001b[0;32m   2370\u001b[0m \u001b[1;33m\u001b[0m\u001b[0m\n\u001b[0;32m   2371\u001b[0m     \u001b[1;32mdef\u001b[0m \u001b[0mgetNumPartitions\u001b[0m\u001b[1;33m(\u001b[0m\u001b[0mself\u001b[0m\u001b[1;33m)\u001b[0m\u001b[1;33m:\u001b[0m\u001b[1;33m\u001b[0m\u001b[0m\n\u001b[1;32m-> 2372\u001b[1;33m         \u001b[1;32mreturn\u001b[0m \u001b[0mself\u001b[0m\u001b[1;33m.\u001b[0m\u001b[0m_prev_jrdd\u001b[0m\u001b[1;33m.\u001b[0m\u001b[0mpartitions\u001b[0m\u001b[1;33m(\u001b[0m\u001b[1;33m)\u001b[0m\u001b[1;33m.\u001b[0m\u001b[0msize\u001b[0m\u001b[1;33m(\u001b[0m\u001b[1;33m)\u001b[0m\u001b[1;33m\u001b[0m\u001b[0m\n\u001b[0m\u001b[0;32m   2373\u001b[0m \u001b[1;33m\u001b[0m\u001b[0m\n\u001b[0;32m   2374\u001b[0m     \u001b[1;33m@\u001b[0m\u001b[0mproperty\u001b[0m\u001b[1;33m\u001b[0m\u001b[0m\n",
      "\u001b[1;32m/usr/local/sbin/spark/python/lib/py4j-0.8.2.1-src.zip/py4j/java_gateway.py\u001b[0m in \u001b[0;36m__call__\u001b[1;34m(self, *args)\u001b[0m\n\u001b[0;32m    536\u001b[0m         \u001b[0manswer\u001b[0m \u001b[1;33m=\u001b[0m \u001b[0mself\u001b[0m\u001b[1;33m.\u001b[0m\u001b[0mgateway_client\u001b[0m\u001b[1;33m.\u001b[0m\u001b[0msend_command\u001b[0m\u001b[1;33m(\u001b[0m\u001b[0mcommand\u001b[0m\u001b[1;33m)\u001b[0m\u001b[1;33m\u001b[0m\u001b[0m\n\u001b[0;32m    537\u001b[0m         return_value = get_return_value(answer, self.gateway_client,\n\u001b[1;32m--> 538\u001b[1;33m                 self.target_id, self.name)\n\u001b[0m\u001b[0;32m    539\u001b[0m \u001b[1;33m\u001b[0m\u001b[0m\n\u001b[0;32m    540\u001b[0m         \u001b[1;32mfor\u001b[0m \u001b[0mtemp_arg\u001b[0m \u001b[1;32min\u001b[0m \u001b[0mtemp_args\u001b[0m\u001b[1;33m:\u001b[0m\u001b[1;33m\u001b[0m\u001b[0m\n",
      "\u001b[1;32m/usr/local/sbin/spark/python/lib/py4j-0.8.2.1-src.zip/py4j/protocol.py\u001b[0m in \u001b[0;36mget_return_value\u001b[1;34m(answer, gateway_client, target_id, name)\u001b[0m\n\u001b[0;32m    298\u001b[0m                 raise Py4JJavaError(\n\u001b[0;32m    299\u001b[0m                     \u001b[1;34m'An error occurred while calling {0}{1}{2}.\\n'\u001b[0m\u001b[1;33m.\u001b[0m\u001b[1;33m\u001b[0m\u001b[0m\n\u001b[1;32m--> 300\u001b[1;33m                     format(target_id, '.', name), value)\n\u001b[0m\u001b[0;32m    301\u001b[0m             \u001b[1;32melse\u001b[0m\u001b[1;33m:\u001b[0m\u001b[1;33m\u001b[0m\u001b[0m\n\u001b[0;32m    302\u001b[0m                 raise Py4JError(\n",
      "\u001b[1;31mPy4JJavaError\u001b[0m: An error occurred while calling o146.partitions.\n: java.io.IOException: java.lang.NullPointerException\n\tat org.apache.spark.util.Utils$.tryOrIOException(Utils.scala:1178)\n\tat org.apache.spark.broadcast.TorrentBroadcast.readBroadcastBlock(TorrentBroadcast.scala:165)\n\tat org.apache.spark.broadcast.TorrentBroadcast._value$lzycompute(TorrentBroadcast.scala:64)\n\tat org.apache.spark.broadcast.TorrentBroadcast._value(TorrentBroadcast.scala:64)\n\tat org.apache.spark.broadcast.TorrentBroadcast.getValue(TorrentBroadcast.scala:88)\n\tat org.apache.spark.broadcast.Broadcast.value(Broadcast.scala:70)\n\tat org.apache.spark.rdd.HadoopRDD.getJobConf(HadoopRDD.scala:144)\n\tat org.apache.spark.rdd.HadoopRDD.getPartitions(HadoopRDD.scala:200)\n\tat org.apache.spark.rdd.RDD$$anonfun$partitions$2.apply(RDD.scala:239)\n\tat org.apache.spark.rdd.RDD$$anonfun$partitions$2.apply(RDD.scala:237)\n\tat scala.Option.getOrElse(Option.scala:120)\n\tat org.apache.spark.rdd.RDD.partitions(RDD.scala:237)\n\tat org.apache.spark.rdd.MapPartitionsRDD.getPartitions(MapPartitionsRDD.scala:35)\n\tat org.apache.spark.rdd.RDD$$anonfun$partitions$2.apply(RDD.scala:239)\n\tat org.apache.spark.rdd.RDD$$anonfun$partitions$2.apply(RDD.scala:237)\n\tat scala.Option.getOrElse(Option.scala:120)\n\tat org.apache.spark.rdd.RDD.partitions(RDD.scala:237)\n\tat org.apache.spark.api.java.JavaRDDLike$class.partitions(JavaRDDLike.scala:65)\n\tat org.apache.spark.api.java.AbstractJavaRDDLike.partitions(JavaRDDLike.scala:47)\n\tat sun.reflect.NativeMethodAccessorImpl.invoke0(Native Method)\n\tat sun.reflect.NativeMethodAccessorImpl.invoke(NativeMethodAccessorImpl.java:57)\n\tat sun.reflect.DelegatingMethodAccessorImpl.invoke(DelegatingMethodAccessorImpl.java:43)\n\tat java.lang.reflect.Method.invoke(Method.java:606)\n\tat py4j.reflection.MethodInvoker.invoke(MethodInvoker.java:231)\n\tat py4j.reflection.ReflectionEngine.invoke(ReflectionEngine.java:379)\n\tat py4j.Gateway.invoke(Gateway.java:259)\n\tat py4j.commands.AbstractCommand.invokeMethod(AbstractCommand.java:133)\n\tat py4j.commands.CallCommand.execute(CallCommand.java:79)\n\tat py4j.GatewayConnection.run(GatewayConnection.java:207)\n\tat java.lang.Thread.run(Thread.java:745)\nCaused by: java.lang.NullPointerException\n\tat org.apache.spark.broadcast.TorrentBroadcast$$anonfun$readBroadcastBlock$1.apply(TorrentBroadcast.scala:167)\n\tat org.apache.spark.util.Utils$.tryOrIOException(Utils.scala:1175)\n\t... 29 more\n"
     ]
    }
   ],
   "source": [
    "rdd.take(1)"
   ]
  },
  {
   "cell_type": "code",
   "execution_count": 21,
   "metadata": {
    "collapsed": false
   },
   "outputs": [
    {
     "data": {
      "text/plain": [
       "'/home/james/MIDS/mss/blocks/Hd5Extracts.csv'"
      ]
     },
     "execution_count": 21,
     "metadata": {},
     "output_type": "execute_result"
    }
   ],
   "source": [
    "os.path.join(blocksRoot,'Hd5Extracts.csv')"
   ]
  },
  {
   "cell_type": "code",
   "execution_count": 26,
   "metadata": {
    "collapsed": false
   },
   "outputs": [
    {
     "data": {
      "text/plain": [
       "[('/home/james/MIDS/mss/blocks/Chunk0032.h5', 0, 1, 176.12200000000001),\n",
       " ('/home/james/MIDS/mss/blocks/Chunk0032.h5', 2, 7, 185.453),\n",
       " ('/home/james/MIDS/mss/blocks/Chunk0032.h5', 3, 4, 94.161000000000001),\n",
       " ('/home/james/MIDS/mss/blocks/Chunk0032.h5', 0, 3, 151.19499999999999),\n",
       " ('/home/james/MIDS/mss/blocks/Chunk0032.h5', 5, 4, 90.953999999999994),\n",
       " ('/home/james/MIDS/mss/blocks/Chunk0032.h5', 0, 4, 105.994),\n",
       " ('/home/james/MIDS/mss/blocks/Chunk0032.h5', 10, 4, 88.015000000000001),\n",
       " ('/home/james/MIDS/mss/blocks/Chunk0032.h5', 7, 1, 74.575999999999993),\n",
       " ('/home/james/MIDS/mss/blocks/Chunk0032.h5', 2, 3, 83.991),\n",
       " ('/home/james/MIDS/mss/blocks/Chunk0032.h5', 11, 5, 83.320999999999998),\n",
       " ('/home/james/MIDS/mss/blocks/Chunk0032.h5', 3, 4, 209.14099999999999),\n",
       " ('/home/james/MIDS/mss/blocks/Chunk0032.h5', 11, 4, 101.37),\n",
       " ('/home/james/MIDS/mss/blocks/Chunk0032.h5', 0, 4, 152.899),\n",
       " ('/home/james/MIDS/mss/blocks/Chunk0032.h5', 9, 4, 86.308000000000007),\n",
       " ('/home/james/MIDS/mss/blocks/Chunk0032.h5', 10, 4, 150.226),\n",
       " ('/home/james/MIDS/mss/blocks/Chunk0032.h5', 9, 4, 116.259),\n",
       " ('/home/james/MIDS/mss/blocks/Chunk0032.h5', 9, 4, 148.99100000000001),\n",
       " ('/home/james/MIDS/mss/blocks/Chunk0032.h5', 4, 1, 152.208),\n",
       " ('/home/james/MIDS/mss/blocks/Chunk0032.h5', 8, 1, 113.29300000000001),\n",
       " ('/home/james/MIDS/mss/blocks/Chunk0032.h5', 11, 4, 158.79499999999999),\n",
       " ('/home/james/MIDS/mss/blocks/Chunk0032.h5', 7, 1, 130.83099999999999),\n",
       " ('/home/james/MIDS/mss/blocks/Chunk0032.h5', 0, 4, 130.19499999999999),\n",
       " ('/home/james/MIDS/mss/blocks/Chunk0032.h5', 2, 1, 162.99299999999999),\n",
       " ('/home/james/MIDS/mss/blocks/Chunk0032.h5', 9, 4, 187.12799999999999),\n",
       " ('/home/james/MIDS/mss/blocks/Chunk0032.h5', 0, 4, 94.754000000000005),\n",
       " ('/home/james/MIDS/mss/blocks/Chunk0032.h5', 11, 4, 87.778999999999996),\n",
       " ('/home/james/MIDS/mss/blocks/Chunk0032.h5', 7, 4, 102.98399999999999),\n",
       " ('/home/james/MIDS/mss/blocks/Chunk0032.h5', 7, 4, 101.345),\n",
       " ('/home/james/MIDS/mss/blocks/Chunk0032.h5', 9, 4, 169.994),\n",
       " ('/home/james/MIDS/mss/blocks/Chunk0032.h5', 7, 7, 87.760000000000005),\n",
       " ('/home/james/MIDS/mss/blocks/Chunk0032.h5', 4, 1, 114.95399999999999),\n",
       " ('/home/james/MIDS/mss/blocks/Chunk0032.h5', 0, 4, 148.02699999999999),\n",
       " ('/home/james/MIDS/mss/blocks/Chunk0032.h5', 10, 4, 87.003),\n",
       " ('/home/james/MIDS/mss/blocks/Chunk0032.h5', 0, 4, 149.98400000000001),\n",
       " ('/home/james/MIDS/mss/blocks/Chunk0032.h5', 0, 4, 124.39400000000001),\n",
       " ('/home/james/MIDS/mss/blocks/Chunk0032.h5', 5, 4, 180.07300000000001),\n",
       " ('/home/james/MIDS/mss/blocks/Chunk0032.h5', 9, 4, 110.93300000000001),\n",
       " ('/home/james/MIDS/mss/blocks/Chunk0032.h5', 8, 4, 134.648),\n",
       " ('/home/james/MIDS/mss/blocks/Chunk0032.h5', 4, 4, 143.126),\n",
       " ('/home/james/MIDS/mss/blocks/Chunk0032.h5', 5, 5, 142.453),\n",
       " ('/home/james/MIDS/mss/blocks/Chunk0032.h5', 7, 1, 99.995000000000005),\n",
       " ('/home/james/MIDS/mss/blocks/Chunk0032.h5', 3, 4, 90.254999999999995),\n",
       " ('/home/james/MIDS/mss/blocks/Chunk0032.h5', 2, 7, 174.42400000000001),\n",
       " ('/home/james/MIDS/mss/blocks/Chunk0032.h5', 0, 4, 130.81200000000001),\n",
       " ('/home/james/MIDS/mss/blocks/Chunk0032.h5', 4, 4, 174.73099999999999),\n",
       " ('/home/james/MIDS/mss/blocks/Chunk0032.h5', 1, 4, 129.99700000000001),\n",
       " ('/home/james/MIDS/mss/blocks/Chunk0032.h5', 8, 4, 110.43000000000001),\n",
       " ('/home/james/MIDS/mss/blocks/Chunk0032.h5', 6, 4, 147.934),\n",
       " ('/home/james/MIDS/mss/blocks/Chunk0032.h5', 10, 4, 117.988),\n",
       " ('/home/james/MIDS/mss/blocks/Chunk0032.h5', 4, 4, 120.04000000000001),\n",
       " ('/home/james/MIDS/mss/blocks/Chunk0032.h5', 5, 4, 243.98099999999999),\n",
       " ('/home/james/MIDS/mss/blocks/Chunk0032.h5', 7, 4, 94.557000000000002),\n",
       " ('/home/james/MIDS/mss/blocks/Chunk0032.h5', 1, 7, 94.063999999999993),\n",
       " ('/home/james/MIDS/mss/blocks/Chunk0032.h5', 8, 4, 107.55),\n",
       " ('/home/james/MIDS/mss/blocks/Chunk0032.h5', 7, 4, 137.34899999999999),\n",
       " ('/home/james/MIDS/mss/blocks/Chunk0032.h5', 5, 3, 90.688999999999993),\n",
       " ('/home/james/MIDS/mss/blocks/Chunk0032.h5', 5, 1, 80.789000000000001),\n",
       " ('/home/james/MIDS/mss/blocks/Chunk0032.h5', 11, 4, 146.28999999999999),\n",
       " ('/home/james/MIDS/mss/blocks/Chunk0032.h5', 11, 4, 140.077),\n",
       " ('/home/james/MIDS/mss/blocks/Chunk0032.h5', 8, 4, 146.02199999999999),\n",
       " ('/home/james/MIDS/mss/blocks/Chunk0032.h5', 9, 4, 195.10900000000001),\n",
       " ('/home/james/MIDS/mss/blocks/Chunk0032.h5', 5, 3, 115.879),\n",
       " ('/home/james/MIDS/mss/blocks/Chunk0032.h5', 2, 4, 235.31800000000001),\n",
       " ('/home/james/MIDS/mss/blocks/Chunk0032.h5', 1, 3, 113.312),\n",
       " ('/home/james/MIDS/mss/blocks/Chunk0032.h5', 5, 5, 88.575999999999993),\n",
       " ('/home/james/MIDS/mss/blocks/Chunk0032.h5', 7, 1, 156.285),\n",
       " ('/home/james/MIDS/mss/blocks/Chunk0032.h5', 0, 4, 63.255000000000003),\n",
       " ('/home/james/MIDS/mss/blocks/Chunk0032.h5', 1, 3, 137.42500000000001),\n",
       " ('/home/james/MIDS/mss/blocks/Chunk0032.h5', 1, 5, 188.91),\n",
       " ('/home/james/MIDS/mss/blocks/Chunk0032.h5', 4, 1, 87.899000000000001),\n",
       " ('/home/james/MIDS/mss/blocks/Chunk0032.h5', 5, 4, 92.590999999999994),\n",
       " ('/home/james/MIDS/mss/blocks/Chunk0032.h5', 0, 4, 152.792),\n",
       " ('/home/james/MIDS/mss/blocks/Chunk0032.h5', 11, 4, 195.755),\n",
       " ('/home/james/MIDS/mss/blocks/Chunk0032.h5', 1, 4, 139.94999999999999),\n",
       " ('/home/james/MIDS/mss/blocks/Chunk0032.h5', 9, 4, 102.70699999999999),\n",
       " ('/home/james/MIDS/mss/blocks/Chunk0032.h5', 9, 4, 86.480999999999995),\n",
       " ('/home/james/MIDS/mss/blocks/Chunk0032.h5', 9, 3, 97.265000000000001),\n",
       " ('/home/james/MIDS/mss/blocks/Chunk0032.h5', 3, 5, 154.73099999999999),\n",
       " ('/home/james/MIDS/mss/blocks/Chunk0032.h5', 0, 4, 131.297),\n",
       " ('/home/james/MIDS/mss/blocks/Chunk0032.h5', 6, 4, 123.00700000000001),\n",
       " ('/home/james/MIDS/mss/blocks/Chunk0032.h5', 4, 3, 95.522999999999996),\n",
       " ('/home/james/MIDS/mss/blocks/Chunk0032.h5', 4, 4, 100.232),\n",
       " ('/home/james/MIDS/mss/blocks/Chunk0032.h5', 1, 4, 177.886),\n",
       " ('/home/james/MIDS/mss/blocks/Chunk0032.h5', 5, 4, 92.728999999999999),\n",
       " ('/home/james/MIDS/mss/blocks/Chunk0032.h5', 7, 4, 132.79400000000001),\n",
       " ('/home/james/MIDS/mss/blocks/Chunk0032.h5', 5, 4, 140.03299999999999),\n",
       " ('/home/james/MIDS/mss/blocks/Chunk0032.h5', 0, 4, 146.10300000000001),\n",
       " ('/home/james/MIDS/mss/blocks/Chunk0032.h5', 9, 4, 181.18700000000001),\n",
       " ('/home/james/MIDS/mss/blocks/Chunk0032.h5', 7, 4, 80.629999999999995),\n",
       " ('/home/james/MIDS/mss/blocks/Chunk0032.h5', 7, 4, 155.023),\n",
       " ('/home/james/MIDS/mss/blocks/Chunk0032.h5', 1, 4, 156.084),\n",
       " ('/home/james/MIDS/mss/blocks/Chunk0032.h5', 7, 1, 230.18700000000001),\n",
       " ('/home/james/MIDS/mss/blocks/Chunk0032.h5', 9, 4, 115.514),\n",
       " ('/home/james/MIDS/mss/blocks/Chunk0032.h5', 2, 3, 111.004),\n",
       " ('/home/james/MIDS/mss/blocks/Chunk0032.h5', 11, 4, 123.004),\n",
       " ('/home/james/MIDS/mss/blocks/Chunk0032.h5', 5, 4, 127.98399999999999),\n",
       " ('/home/james/MIDS/mss/blocks/Chunk0032.h5', 2, 4, 124.22799999999999),\n",
       " ('/home/james/MIDS/mss/blocks/Chunk0032.h5', 5, 4, 104.752),\n",
       " ('/home/james/MIDS/mss/blocks/Chunk0032.h5', 8, 3, 66.200999999999993),\n",
       " ('/home/james/MIDS/mss/blocks/Chunk0032.h5', 11, 4, 131.999)]"
      ]
     },
     "execution_count": 26,
     "metadata": {},
     "output_type": "execute_result"
    }
   ],
   "source": [
    "nodeToList('/home/james/MIDS/mss/blocks/Chunk0032.h5')"
   ]
  },
  {
   "cell_type": "code",
   "execution_count": 24,
   "metadata": {
    "collapsed": false
   },
   "outputs": [],
   "source": [
    "inputLine = '/home/james/MIDS/mss/blocks/Chunk0032.h5'"
   ]
  },
  {
   "cell_type": "code",
   "execution_count": 25,
   "metadata": {
    "collapsed": false
   },
   "outputs": [
    {
     "data": {
      "text/plain": [
       "[('/home/james/MIDS/mss/blocks/Chunk0032.h5', 0, 1, 176.12200000000001),\n",
       " ('/home/james/MIDS/mss/blocks/Chunk0032.h5', 2, 7, 185.453),\n",
       " ('/home/james/MIDS/mss/blocks/Chunk0032.h5', 3, 4, 94.161000000000001),\n",
       " ('/home/james/MIDS/mss/blocks/Chunk0032.h5', 0, 3, 151.19499999999999),\n",
       " ('/home/james/MIDS/mss/blocks/Chunk0032.h5', 5, 4, 90.953999999999994),\n",
       " ('/home/james/MIDS/mss/blocks/Chunk0032.h5', 0, 4, 105.994),\n",
       " ('/home/james/MIDS/mss/blocks/Chunk0032.h5', 10, 4, 88.015000000000001),\n",
       " ('/home/james/MIDS/mss/blocks/Chunk0032.h5', 7, 1, 74.575999999999993),\n",
       " ('/home/james/MIDS/mss/blocks/Chunk0032.h5', 2, 3, 83.991),\n",
       " ('/home/james/MIDS/mss/blocks/Chunk0032.h5', 11, 5, 83.320999999999998),\n",
       " ('/home/james/MIDS/mss/blocks/Chunk0032.h5', 3, 4, 209.14099999999999),\n",
       " ('/home/james/MIDS/mss/blocks/Chunk0032.h5', 11, 4, 101.37),\n",
       " ('/home/james/MIDS/mss/blocks/Chunk0032.h5', 0, 4, 152.899),\n",
       " ('/home/james/MIDS/mss/blocks/Chunk0032.h5', 9, 4, 86.308000000000007),\n",
       " ('/home/james/MIDS/mss/blocks/Chunk0032.h5', 10, 4, 150.226),\n",
       " ('/home/james/MIDS/mss/blocks/Chunk0032.h5', 9, 4, 116.259),\n",
       " ('/home/james/MIDS/mss/blocks/Chunk0032.h5', 9, 4, 148.99100000000001),\n",
       " ('/home/james/MIDS/mss/blocks/Chunk0032.h5', 4, 1, 152.208),\n",
       " ('/home/james/MIDS/mss/blocks/Chunk0032.h5', 8, 1, 113.29300000000001),\n",
       " ('/home/james/MIDS/mss/blocks/Chunk0032.h5', 11, 4, 158.79499999999999),\n",
       " ('/home/james/MIDS/mss/blocks/Chunk0032.h5', 7, 1, 130.83099999999999),\n",
       " ('/home/james/MIDS/mss/blocks/Chunk0032.h5', 0, 4, 130.19499999999999),\n",
       " ('/home/james/MIDS/mss/blocks/Chunk0032.h5', 2, 1, 162.99299999999999),\n",
       " ('/home/james/MIDS/mss/blocks/Chunk0032.h5', 9, 4, 187.12799999999999),\n",
       " ('/home/james/MIDS/mss/blocks/Chunk0032.h5', 0, 4, 94.754000000000005),\n",
       " ('/home/james/MIDS/mss/blocks/Chunk0032.h5', 11, 4, 87.778999999999996),\n",
       " ('/home/james/MIDS/mss/blocks/Chunk0032.h5', 7, 4, 102.98399999999999),\n",
       " ('/home/james/MIDS/mss/blocks/Chunk0032.h5', 7, 4, 101.345),\n",
       " ('/home/james/MIDS/mss/blocks/Chunk0032.h5', 9, 4, 169.994),\n",
       " ('/home/james/MIDS/mss/blocks/Chunk0032.h5', 7, 7, 87.760000000000005),\n",
       " ('/home/james/MIDS/mss/blocks/Chunk0032.h5', 4, 1, 114.95399999999999),\n",
       " ('/home/james/MIDS/mss/blocks/Chunk0032.h5', 0, 4, 148.02699999999999),\n",
       " ('/home/james/MIDS/mss/blocks/Chunk0032.h5', 10, 4, 87.003),\n",
       " ('/home/james/MIDS/mss/blocks/Chunk0032.h5', 0, 4, 149.98400000000001),\n",
       " ('/home/james/MIDS/mss/blocks/Chunk0032.h5', 0, 4, 124.39400000000001),\n",
       " ('/home/james/MIDS/mss/blocks/Chunk0032.h5', 5, 4, 180.07300000000001),\n",
       " ('/home/james/MIDS/mss/blocks/Chunk0032.h5', 9, 4, 110.93300000000001),\n",
       " ('/home/james/MIDS/mss/blocks/Chunk0032.h5', 8, 4, 134.648),\n",
       " ('/home/james/MIDS/mss/blocks/Chunk0032.h5', 4, 4, 143.126),\n",
       " ('/home/james/MIDS/mss/blocks/Chunk0032.h5', 5, 5, 142.453),\n",
       " ('/home/james/MIDS/mss/blocks/Chunk0032.h5', 7, 1, 99.995000000000005),\n",
       " ('/home/james/MIDS/mss/blocks/Chunk0032.h5', 3, 4, 90.254999999999995),\n",
       " ('/home/james/MIDS/mss/blocks/Chunk0032.h5', 2, 7, 174.42400000000001),\n",
       " ('/home/james/MIDS/mss/blocks/Chunk0032.h5', 0, 4, 130.81200000000001),\n",
       " ('/home/james/MIDS/mss/blocks/Chunk0032.h5', 4, 4, 174.73099999999999),\n",
       " ('/home/james/MIDS/mss/blocks/Chunk0032.h5', 1, 4, 129.99700000000001),\n",
       " ('/home/james/MIDS/mss/blocks/Chunk0032.h5', 8, 4, 110.43000000000001),\n",
       " ('/home/james/MIDS/mss/blocks/Chunk0032.h5', 6, 4, 147.934),\n",
       " ('/home/james/MIDS/mss/blocks/Chunk0032.h5', 10, 4, 117.988),\n",
       " ('/home/james/MIDS/mss/blocks/Chunk0032.h5', 4, 4, 120.04000000000001),\n",
       " ('/home/james/MIDS/mss/blocks/Chunk0032.h5', 5, 4, 243.98099999999999),\n",
       " ('/home/james/MIDS/mss/blocks/Chunk0032.h5', 7, 4, 94.557000000000002),\n",
       " ('/home/james/MIDS/mss/blocks/Chunk0032.h5', 1, 7, 94.063999999999993),\n",
       " ('/home/james/MIDS/mss/blocks/Chunk0032.h5', 8, 4, 107.55),\n",
       " ('/home/james/MIDS/mss/blocks/Chunk0032.h5', 7, 4, 137.34899999999999),\n",
       " ('/home/james/MIDS/mss/blocks/Chunk0032.h5', 5, 3, 90.688999999999993),\n",
       " ('/home/james/MIDS/mss/blocks/Chunk0032.h5', 5, 1, 80.789000000000001),\n",
       " ('/home/james/MIDS/mss/blocks/Chunk0032.h5', 11, 4, 146.28999999999999),\n",
       " ('/home/james/MIDS/mss/blocks/Chunk0032.h5', 11, 4, 140.077),\n",
       " ('/home/james/MIDS/mss/blocks/Chunk0032.h5', 8, 4, 146.02199999999999),\n",
       " ('/home/james/MIDS/mss/blocks/Chunk0032.h5', 9, 4, 195.10900000000001),\n",
       " ('/home/james/MIDS/mss/blocks/Chunk0032.h5', 5, 3, 115.879),\n",
       " ('/home/james/MIDS/mss/blocks/Chunk0032.h5', 2, 4, 235.31800000000001),\n",
       " ('/home/james/MIDS/mss/blocks/Chunk0032.h5', 1, 3, 113.312),\n",
       " ('/home/james/MIDS/mss/blocks/Chunk0032.h5', 5, 5, 88.575999999999993),\n",
       " ('/home/james/MIDS/mss/blocks/Chunk0032.h5', 7, 1, 156.285),\n",
       " ('/home/james/MIDS/mss/blocks/Chunk0032.h5', 0, 4, 63.255000000000003),\n",
       " ('/home/james/MIDS/mss/blocks/Chunk0032.h5', 1, 3, 137.42500000000001),\n",
       " ('/home/james/MIDS/mss/blocks/Chunk0032.h5', 1, 5, 188.91),\n",
       " ('/home/james/MIDS/mss/blocks/Chunk0032.h5', 4, 1, 87.899000000000001),\n",
       " ('/home/james/MIDS/mss/blocks/Chunk0032.h5', 5, 4, 92.590999999999994),\n",
       " ('/home/james/MIDS/mss/blocks/Chunk0032.h5', 0, 4, 152.792),\n",
       " ('/home/james/MIDS/mss/blocks/Chunk0032.h5', 11, 4, 195.755),\n",
       " ('/home/james/MIDS/mss/blocks/Chunk0032.h5', 1, 4, 139.94999999999999),\n",
       " ('/home/james/MIDS/mss/blocks/Chunk0032.h5', 9, 4, 102.70699999999999),\n",
       " ('/home/james/MIDS/mss/blocks/Chunk0032.h5', 9, 4, 86.480999999999995),\n",
       " ('/home/james/MIDS/mss/blocks/Chunk0032.h5', 9, 3, 97.265000000000001),\n",
       " ('/home/james/MIDS/mss/blocks/Chunk0032.h5', 3, 5, 154.73099999999999),\n",
       " ('/home/james/MIDS/mss/blocks/Chunk0032.h5', 0, 4, 131.297),\n",
       " ('/home/james/MIDS/mss/blocks/Chunk0032.h5', 6, 4, 123.00700000000001),\n",
       " ('/home/james/MIDS/mss/blocks/Chunk0032.h5', 4, 3, 95.522999999999996),\n",
       " ('/home/james/MIDS/mss/blocks/Chunk0032.h5', 4, 4, 100.232),\n",
       " ('/home/james/MIDS/mss/blocks/Chunk0032.h5', 1, 4, 177.886),\n",
       " ('/home/james/MIDS/mss/blocks/Chunk0032.h5', 5, 4, 92.728999999999999),\n",
       " ('/home/james/MIDS/mss/blocks/Chunk0032.h5', 7, 4, 132.79400000000001),\n",
       " ('/home/james/MIDS/mss/blocks/Chunk0032.h5', 5, 4, 140.03299999999999),\n",
       " ('/home/james/MIDS/mss/blocks/Chunk0032.h5', 0, 4, 146.10300000000001),\n",
       " ('/home/james/MIDS/mss/blocks/Chunk0032.h5', 9, 4, 181.18700000000001),\n",
       " ('/home/james/MIDS/mss/blocks/Chunk0032.h5', 7, 4, 80.629999999999995),\n",
       " ('/home/james/MIDS/mss/blocks/Chunk0032.h5', 7, 4, 155.023),\n",
       " ('/home/james/MIDS/mss/blocks/Chunk0032.h5', 1, 4, 156.084),\n",
       " ('/home/james/MIDS/mss/blocks/Chunk0032.h5', 7, 1, 230.18700000000001),\n",
       " ('/home/james/MIDS/mss/blocks/Chunk0032.h5', 9, 4, 115.514),\n",
       " ('/home/james/MIDS/mss/blocks/Chunk0032.h5', 2, 3, 111.004),\n",
       " ('/home/james/MIDS/mss/blocks/Chunk0032.h5', 11, 4, 123.004),\n",
       " ('/home/james/MIDS/mss/blocks/Chunk0032.h5', 5, 4, 127.98399999999999),\n",
       " ('/home/james/MIDS/mss/blocks/Chunk0032.h5', 2, 4, 124.22799999999999),\n",
       " ('/home/james/MIDS/mss/blocks/Chunk0032.h5', 5, 4, 104.752),\n",
       " ('/home/james/MIDS/mss/blocks/Chunk0032.h5', 8, 3, 66.200999999999993),\n",
       " ('/home/james/MIDS/mss/blocks/Chunk0032.h5', 11, 4, 131.999)]"
      ]
     },
     "execution_count": 25,
     "metadata": {},
     "output_type": "execute_result"
    }
   ],
   "source": [
    "nodeToList(inputLine)"
   ]
  },
  {
   "cell_type": "code",
   "execution_count": null,
   "metadata": {
    "collapsed": true
   },
   "outputs": [],
   "source": []
  }
 ],
 "metadata": {
  "kernelspec": {
   "display_name": "Python 2",
   "language": "python",
   "name": "python2"
  },
  "language_info": {
   "codemirror_mode": {
    "name": "ipython",
    "version": 2
   },
   "file_extension": ".py",
   "mimetype": "text/x-python",
   "name": "python",
   "nbconvert_exporter": "python",
   "pygments_lexer": "ipython2",
   "version": "2.7.6"
  }
 },
 "nbformat": 4,
 "nbformat_minor": 0
}
