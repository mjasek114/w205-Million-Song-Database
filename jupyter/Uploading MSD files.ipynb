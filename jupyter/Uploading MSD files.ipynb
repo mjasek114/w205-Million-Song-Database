{
 "cells": [
  {
   "cell_type": "markdown",
   "metadata": {},
   "source": [
    "### Uploading MSD files to AWS"
   ]
  },
  {
   "cell_type": "code",
   "execution_count": 14,
   "metadata": {
    "collapsed": false
   },
   "outputs": [],
   "source": [
    "import os\n",
    "import boto\n",
    "from boto.s3.key import Key"
   ]
  },
  {
   "cell_type": "code",
   "execution_count": 15,
   "metadata": {
    "collapsed": true
   },
   "outputs": [],
   "source": [
    "blockFileDir = os.path.expanduser('~/MIDS/mss/blocks/')\n",
    "\n",
    "conn = boto.connect_s3()  # Assumes S3 keys are stored in environment variables\n",
    "bucket = conn.get_bucket('w205-mmm', validate=True)"
   ]
  },
  {
   "cell_type": "code",
   "execution_count": 16,
   "metadata": {
    "collapsed": false
   },
   "outputs": [],
   "source": [
    "# Test of uploading an individual file to an s3 bucket.\n",
    "# It works.\n",
    "k = Key(bucket)\n",
    "k.key = 'Chunk0001.h5'\n",
    "k.set_contents_from_filename('/Users/Sean/MIDS/mss/blocks/Chunk0001.h5', reduced_redundancy=True)"
   ]
  },
  {
   "cell_type": "code",
   "execution_count": null,
   "metadata": {
    "collapsed": true
   },
   "outputs": [],
   "source": [
    "\"\"\" Not tested yet\n",
    "int upload_count = 0;\n",
    "\n",
    "for dirname, subdirs, files in os.walk(blockFileDir):\n",
    "    if upload_count == 5:\n",
    "        break\n",
    "\n",
    "    for f in files\n",
    "        if path.endswith('.h5'):\n",
    "            path = os.path.join(dirname, f)\n",
    "            k = Key(bucket)\n",
    "            k.key = f\n",
    "            k.set_contents_from_filename(path)\n",
    "            upload_count = upload_count + 1\n",
    "            if upload_count == 5:\n",
    "                break\n",
    "\"\"\""
   ]
  }
 ],
 "metadata": {
  "git": {
   "suppress_outputs": true
  },
  "kernelspec": {
   "display_name": "Python 2",
   "language": "python",
   "name": "python2"
  },
  "language_info": {
   "codemirror_mode": {
    "name": "ipython",
    "version": 2
   },
   "file_extension": ".py",
   "mimetype": "text/x-python",
   "name": "python",
   "nbconvert_exporter": "python",
   "pygments_lexer": "ipython2",
   "version": "2.7.10"
  }
 },
 "nbformat": 4,
 "nbformat_minor": 0
}