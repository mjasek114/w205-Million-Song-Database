{
 "cells": [
  {
   "cell_type": "markdown",
   "metadata": {},
   "source": [
    "### Uploading MSD files to AWS"
   ]
  },
  {
   "cell_type": "code",
   "execution_count": 2,
   "metadata": {
    "collapsed": false
   },
   "outputs": [],
   "source": [
    "import os\n",
    "import boto\n",
    "from boto.s3.key import Key"
   ]
  },
  {
   "cell_type": "code",
   "execution_count": 12,
   "metadata": {
    "collapsed": false
   },
   "outputs": [],
   "source": [
    "blockFileDir = os.path.expanduser('~/MIDS/mss/blocks/')\n",
    "\n",
    "conn = boto.connect_s3()  # Assumes S3 keys are stored in environment variables\n",
    "bucket = conn.get_bucket('w205-msd', validate=True)\n",
    "\n",
    "total_bytes = 0\n",
    "item_count = 0\n",
    "for key in bucket:\n",
    "    total_bytes = total_bytes + key.size\n",
    "    item_count = item_count + 1\n",
    "    \n",
    "size = total_bytes / 1024 / 1024\n",
    "print \"{} objects, Size (MB): {} ({}%)\".format(item_count, size, size / 500000.0)"
   ]
  },
  {
   "cell_type": "code",
   "execution_count": 8,
   "metadata": {
    "collapsed": false
   },
   "outputs": [],
   "source": [
    "# Testing Megan's bucket\n",
    "\n",
    "conn = boto.connect_s3()\n",
    "bucket = conn.get_bucket('w205-mmm', validate=True)\n",
    "\n",
    "for key in bucket:\n",
    "    if not key.key.startswith('hive'):\n",
    "        print key\n",
    "    \n",
    "# k = Key(bucket)\n",
    "# k.key=\"readme.md\"\n",
    "# k.set_contents_from_filename('/Users/Sean/MIDS/w205project/README.md')"
   ]
  },
  {
   "cell_type": "code",
   "execution_count": 10,
   "metadata": {
    "collapsed": false
   },
   "outputs": [],
   "source": [
    "msd = bucket.get_key('data/W205_Final/w205project/resultsRoot/MSD_Flat.csv')\n",
    "msd.copy(bucket, 'million_song_dataset/MSD_Flat.csv')"
   ]
  },
  {
   "cell_type": "code",
   "execution_count": 16,
   "metadata": {
    "collapsed": false
   },
   "outputs": [],
   "source": [
    "# Test of uploading an individual file to an s3 bucket.\n",
    "# It works.\n",
    "k = Key(bucket)\n",
    "k.key = 'Chunk0001.h5'\n",
    "k.set_contents_from_filename('/Users/Sean/MIDS/mss/blocks/Chunk0001.h5', reduced_redundancy=True)"
   ]
  },
  {
   "cell_type": "code",
   "execution_count": null,
   "metadata": {
    "collapsed": true
   },
   "outputs": [],
   "source": [
    "\"\"\" Not tested yet\n",
    "int upload_count = 0;\n",
    "\n",
    "for dirname, subdirs, files in os.walk(blockFileDir):\n",
    "    if upload_count == 5:\n",
    "        break\n",
    "\n",
    "    for f in files\n",
    "        if path.endswith('.h5'):\n",
    "            path = os.path.join(dirname, f)\n",
    "            k = Key(bucket)\n",
    "            k.key = f\n",
    "            k.set_contents_from_filename(path)\n",
    "            upload_count = upload_count + 1\n",
    "            if upload_count == 5:\n",
    "                break\n",
    "\"\"\""
   ]
  }
 ],
 "metadata": {
  "git": {
   "suppress_outputs": true
  },
  "kernelspec": {
   "display_name": "Python 2",
   "language": "python",
   "name": "python2"
  },
  "language_info": {
   "codemirror_mode": {
    "name": "ipython",
    "version": 2
   },
   "file_extension": ".py",
   "mimetype": "text/x-python",
   "name": "python",
   "nbconvert_exporter": "python",
   "pygments_lexer": "ipython2",
   "version": "2.7.10"
  }
 },
 "nbformat": 4,
 "nbformat_minor": 0
}