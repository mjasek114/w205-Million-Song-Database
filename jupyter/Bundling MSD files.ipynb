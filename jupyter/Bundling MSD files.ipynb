{
 "cells": [
  {
   "cell_type": "code",
   "execution_count": 1,
   "metadata": {
    "collapsed": true
   },
   "outputs": [],
   "source": [
    "import h5py\n",
    "\n",
    "mssRoot = '~/MIDS/mss'"
   ]
  },
  {
   "cell_type": "code",
   "execution_count": 23,
   "metadata": {
    "collapsed": true
   },
   "outputs": [],
   "source": [
    "# Read input\n",
    "inFile = h5py.File('../sampledata/TRAXLZU12903D05F94.h5', 'r')\n",
    "\n",
    "# Create output file\n",
    "outFile = h5py.File('../workspace/chunked.h5', 'w')"
   ]
  },
  {
   "cell_type": "code",
   "execution_count": 24,
   "metadata": {
    "collapsed": false
   },
   "outputs": [],
   "source": [
    "# Create group to store objects\n",
    "group = outFile.create_group('msd')"
   ]
  },
  {
   "cell_type": "code",
   "execution_count": 29,
   "metadata": {
    "collapsed": false
   },
   "outputs": [],
   "source": [
    "# Add a few copies of the data\n",
    "\n",
    "for i in range(0, 10):\n",
    "    fileName = 'File{0:03d}'.format(i)\n",
    "    outFile.copy(inFile, group, fileName)"
   ]
  },
  {
   "cell_type": "code",
   "execution_count": 30,
   "metadata": {
    "collapsed": false
   },
   "outputs": [],
   "source": [
    "# Clean up\n",
    "inFile.close()\n",
    "outFile.close()"
   ]
  },
  {
   "cell_type": "code",
   "execution_count": 33,
   "metadata": {
    "collapsed": false
   },
   "outputs": [
    {
     "data": {
      "text/plain": [
       "[u'File000',\n",
       " u'File001',\n",
       " u'File002',\n",
       " u'File003',\n",
       " u'File004',\n",
       " u'File005',\n",
       " u'File006',\n",
       " u'File007',\n",
       " u'File008',\n",
       " u'File009']"
      ]
     },
     "execution_count": 33,
     "metadata": {},
     "output_type": "execute_result"
    }
   ],
   "source": [
    "# Testing\n",
    "f = h5py.File('../workspace/chunked.h5', 'r')\n",
    "f.keys()\n",
    "f['msd'].keys()"
   ]
  }
 ],
 "metadata": {
  "kernelspec": {
   "display_name": "Python 2",
   "language": "python",
   "name": "python2"
  },
  "language_info": {
   "codemirror_mode": {
    "name": "ipython",
    "version": 2
   },
   "file_extension": ".py",
   "mimetype": "text/x-python",
   "name": "python",
   "nbconvert_exporter": "python",
   "pygments_lexer": "ipython2",
   "version": "2.7.10"
  }
 },
 "nbformat": 4,
 "nbformat_minor": 0
}
