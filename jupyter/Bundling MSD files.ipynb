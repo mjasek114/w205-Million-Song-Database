{
 "cells": [
  {
   "cell_type": "code",
   "execution_count": 10,
   "metadata": {
    "collapsed": false
   },
   "outputs": [],
   "source": [
    "import h5py\n",
    "import os\n",
    "\n",
    "mssRoot = os.path.expanduser('~/MIDS/mss/data/')\n",
    "outputDir = os.path.expanduser('~/MIDS/mss/blocks/')\n",
    "filesPerBlock = 100  # Gives about 30MB/file. Should use larger size in production."
   ]
  },
  {
   "cell_type": "code",
   "execution_count": 11,
   "metadata": {
    "collapsed": false
   },
   "outputs": [],
   "source": [
    "def createBlockFile(folder, num):\n",
    "    fileName = 'Chunk{0:04d}.h5'.format(num)\n",
    "    path = os.path.join(folder, fileName)\n",
    "    print 'Creating block file: ' + path\n",
    "    f = h5py.File(path, 'w')\n",
    "    f.create_group('songs')\n",
    "    return f"
   ]
  },
  {
   "cell_type": "code",
   "execution_count": 12,
   "metadata": {
    "collapsed": false
   },
   "outputs": [],
   "source": [
    "print 'Using root path: ' + mssRoot\n",
    "print 'Using output path: ' + outputDir\n",
    "\n",
    "if not os.path.exists(outputDir):\n",
    "    print 'creating ' + outputDir\n",
    "    os.makedirs(outputDir)"
   ]
  },
  {
   "cell_type": "code",
   "execution_count": 13,
   "metadata": {
    "collapsed": false
   },
   "outputs": [],
   "source": [
    "blockCounter = 1\n",
    "fileCount = 1\n",
    "\n",
    "outFile = createBlockFile(outputDir, blockCounter)\n",
    "for dirname, subdirs, files in os.walk(mssRoot):\n",
    "    print 'Scanning ' + dirname + '...'\n",
    "    for f in files:\n",
    "        if f.endswith('.h5'):\n",
    "            inFile = h5py.File(os.path.join(dirname, f), 'r')\n",
    "            outFile.copy(inFile, outFile['songs'], f)\n",
    "            inFile.close()\n",
    "            fileCount = fileCount + 1\n",
    "        if(fileCount > filesPerBlock):\n",
    "            outFile.close()\n",
    "            fileCount = 1\n",
    "            blockCounter = blockCounter + 1\n",
    "            outFile = createBlockFile(outputDir, blockCounter)\n",
    "outFile.close()\n",
    "\n",
    "\n"
   ]
  },
  {
   "cell_type": "code",
   "execution_count": 14,
   "metadata": {
    "collapsed": false
   },
   "outputs": [],
   "source": [
    "# Testing\n",
    "f = h5py.File(os.path.join(outputDir, 'Chunk0001.h5'), 'r')\n",
    "f['songs'].keys()"
   ]
  },
  {
   "cell_type": "code",
   "execution_count": 23,
   "metadata": {
    "collapsed": false
   },
   "outputs": [],
   "source": [
    "f['songs'][f['songs'].keys()[0]].keys()\n",
    "\n",
    "\n",
    "\n"
   ]
  },
  {
   "cell_type": "code",
   "execution_count": null,
   "metadata": {
    "collapsed": true
   },
   "outputs": [],
   "source": []
  }
 ],
 "metadata": {
  "git": {
   "suppress_outputs": true
  },
  "kernelspec": {
   "display_name": "Python 2",
   "language": "python",
   "name": "python2"
  },
  "language_info": {
   "codemirror_mode": {
    "name": "ipython",
    "version": 2
   },
   "file_extension": ".py",
   "mimetype": "text/x-python",
   "name": "python",
   "nbconvert_exporter": "python",
   "pygments_lexer": "ipython2",
   "version": "2.7.6"
  }
 },
 "nbformat": 4,
 "nbformat_minor": 0
}