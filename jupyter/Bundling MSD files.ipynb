{
 "cells": [
  {
   "cell_type": "code",
   "execution_count": 69,
   "metadata": {
    "collapsed": true
   },
   "outputs": [],
   "source": [
    "import h5py\n",
    "\n",
    "mssRoot = '~/MIDS/mss/data/'\n",
    "outputDir = '~/MIDS/mss/blocks/'\n",
    "filesPerBlock = 1000"
   ]
  },
  {
   "cell_type": "code",
   "execution_count": 76,
   "metadata": {
    "collapsed": false
   },
   "outputs": [],
   "source": [
    "def createBlockFile(folder, num):\n",
    "    fileName = 'Chunk{0:04d}.h5'.format(num)\n",
    "    path = os.path.join(folder, fileName)\n",
    "    print 'Creating block file: ' + path\n",
    "    f = h5py.File(path, 'w')\n",
    "    f.create_group('songs')\n",
    "    return f"
   ]
  },
  {
   "cell_type": "code",
   "execution_count": 77,
   "metadata": {
    "collapsed": false
   },
   "outputs": [],
   "source": [
    "mssRoot = os.path.expanduser(mssRoot)\n",
    "print 'Using root path: ' + mssRoot\n",
    "\n",
    "outputDir = os.path.expanduser(outputDir)\n",
    "print 'Using output path: ' + outputDir\n",
    "\n",
    "if not os.path.exists(outputDir):\n",
    "    print 'creating ' + outputDir\n",
    "    os.makedirs(outputDir)"
   ]
  },
  {
   "cell_type": "code",
   "execution_count": 78,
   "metadata": {
    "collapsed": false
   },
   "outputs": [],
   "source": [
    "blockCounter = 1\n",
    "fileCount = 1\n",
    "\n",
    "outFile = createBlockFile(outputDir, blockCounter)\n",
    "for dirname, subdirs, files in os.walk(mssRoot):\n",
    "    print 'Scanning ' + dirname + '...'\n",
    "    for f in files:\n",
    "        if f.endswith('.h5'):\n",
    "            inFile = h5py.File(os.path.join(dirname, f), 'r')\n",
    "            outFile.copy(inFile, outFile['songs'], f)\n",
    "            inFile.close()\n",
    "            fileCount = fileCount + 1\n",
    "        if(fileCount > filesPerBlock):\n",
    "            outFile.close()\n",
    "            fileCount = 1\n",
    "            blockCounter = blockCounter + 1\n",
    "            outFile = createBlockFile(outputDir, blockCounter)\n",
    "outFile.close()\n",
    "\n",
    "\n"
   ]
  },
  {
   "cell_type": "code",
   "execution_count": 92,
   "metadata": {
    "collapsed": false
   },
   "outputs": [],
   "source": [
    "# Testing\n",
    "f = h5py.File(os.path.join(outputDir, 'Chunk0001.h5'), 'r')\n",
    "f['songs'].keys()"
   ]
  }
 ],
 "metadata": {
  "git": {
   "suppress_outputs": true
  },
  "kernelspec": {
   "display_name": "Python 2",
   "language": "python",
   "name": "python2"
  },
  "language_info": {
   "codemirror_mode": {
    "name": "ipython",
    "version": 2
   },
   "file_extension": ".py",
   "mimetype": "text/x-python",
   "name": "python",
   "nbconvert_exporter": "python",
   "pygments_lexer": "ipython2",
   "version": "2.7.10"
  }
 },
 "nbformat": 4,
 "nbformat_minor": 0
}